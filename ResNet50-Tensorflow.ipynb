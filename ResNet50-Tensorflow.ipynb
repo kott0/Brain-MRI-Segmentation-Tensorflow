{
 "cells": [
  {
   "cell_type": "markdown",
   "metadata": {},
   "source": [
    "## Libraries import"
   ]
  },
  {
   "cell_type": "code",
   "execution_count": null,
   "metadata": {},
   "outputs": [],
   "source": [
    "import os\n",
    "import glob\n",
    "import random\n",
    "\n",
    "import pandas as pd\n",
    "import numpy as np\n",
    "import matplotlib.pyplot as plt\n",
    "import cv2\n",
    "from mpl_toolkits.axes_grid1 import ImageGrid\n",
    "import tensorflow as tf\n",
    "from sklearn.model_selection import train_test_split\n",
    "\n",
    "from tensorflow.keras.preprocessing.image import ImageDataGenerator\n",
    "from tensorflow.keras.models import Model, load_model, save_model\n",
    "from tensorflow.keras.layers import Input, Activation, BatchNormalization, Dropout, Lambda, Conv2D\n",
    "from tensorflow.keras.layers import Conv2DTranspose, MaxPooling2D, concatenate, AveragePooling2D, Dense, Flatten\n",
    "from tensorflow.keras.optimizers import Adam\n",
    "from tensorflow.keras.callbacks import EarlyStopping, ModelCheckpoint, ReduceLROnPlateau\n",
    "from tensorflow.keras import backend as K\n",
    "\n",
    "from tensorflow.keras.applications.resnet50 import ResNet50"
   ]
  },
  {
   "cell_type": "code",
   "execution_count": null,
   "metadata": {},
   "outputs": [],
   "source": [
    "csv_data = pd.read_csv(os.getcwd()+'/source_data/lgg-mri-segmentation/kaggle_3m/data.csv')\n",
    "csv_data.info()"
   ]
  },
  {
   "cell_type": "code",
   "execution_count": null,
   "metadata": {},
   "outputs": [],
   "source": [
    "csv_data.head()"
   ]
  },
  {
   "cell_type": "code",
   "execution_count": null,
   "metadata": {},
   "outputs": [],
   "source": [
    "mask_files = glob.glob(os.getcwd()+\"/source_data/lgg-mri-segmentation/kaggle_3m/*/*_mask*\")\n",
    "train_files = [file.replace('_mask', '') for file in mask_files]"
   ]
  },
  {
   "cell_type": "code",
   "execution_count": null,
   "metadata": {},
   "outputs": [],
   "source": [
    "# Parse each mask image with lambda function. Max value in mask img indicates abnormality\n",
    "def diagnosis(mask_path):\n",
    "    value = np.max(cv2.imread(mask_path))\n",
    "    return '1' if value > 0 else '0'\n",
    "\n",
    "    \n",
    "df = pd.DataFrame({\"image_path\": train_files,\n",
    "                   \"mask_path\": mask_files,\n",
    "                  \"diagnosis\":[diagnosis(x) for x in mask_files]})\n",
    "df.head()\n",
    "\n",
    "del mask_files, train_files  # Clean memory space"
   ]
  },
  {
   "cell_type": "code",
   "execution_count": null,
   "metadata": {},
   "outputs": [],
   "source": [
    "IMAGE_SIZE = (256, 256)\n",
    "\n",
    "df_positive = df[df['diagnosis']=='1'].sample(5).values\n",
    "df_negative = df[df['diagnosis']=='0'].sample(5).values\n",
    "\n",
    "def show_data(df, positive=True):\n",
    "    images = []\n",
    "    masks = []\n",
    "    for data in df:\n",
    "        img = cv2.imread(data[0])\n",
    "        mask = cv2.imread(data[1])\n",
    "        images.append(img)\n",
    "        masks.append(mask)\n",
    "    images = np.hstack(np.array(images))\n",
    "    masks = np.hstack(np.array(masks))\n",
    "    \n",
    "    fig = plt.figure(figsize=(15,15))\n",
    "    if positive:\n",
    "        grid = ImageGrid(fig, 111, nrows_ncols=(3,1), axes_pad=0.5)\n",
    "    else:\n",
    "        grid = ImageGrid(fig, 111, nrows_ncols=(2,1), axes_pad=0.5)\n",
    "    grid[0].imshow(images)\n",
    "    grid[0].set_title('Brain MRI', fontsize=12)\n",
    "    grid[0].axis('off')\n",
    "    grid[1].imshow(masks)\n",
    "    grid[1].set_title('Abnormality masks', fontsize=12)\n",
    "    grid[1].axis('off')\n",
    "    if positive:\n",
    "        grid[2].imshow(images)\n",
    "        grid[2].imshow(masks, alpha=0.35)\n",
    "        grid[2].set_title('Brain MRI with mask', fontsize=12)\n",
    "        grid[2].axis('off')\n",
    "        \n",
    "show_data(df_positive)\n",
    "show_data(df_negative, positive=False)"
   ]
  },
  {
   "cell_type": "markdown",
   "metadata": {},
   "source": [
    "Split data into train/test"
   ]
  },
  {
   "cell_type": "code",
   "execution_count": null,
   "metadata": {},
   "outputs": [],
   "source": [
    "df_train, df_test = train_test_split(df, test_size=0.15)\n",
    "df_train, df_val = train_test_split(df_train, test_size=0.15)\n",
    "print(df_train.values.shape)\n",
    "print(df_val.values.shape)\n",
    "print(df_test.values.shape)"
   ]
  },
  {
   "cell_type": "code",
   "execution_count": null,
   "metadata": {},
   "outputs": [],
   "source": [
    "def train_generator(data_frame, batch_size, aug_dict,\n",
    "        image_color_mode=\"rgb\",\n",
    "        mask_color_mode=\"grayscale\",\n",
    "        image_save_prefix=\"image\",\n",
    "        mask_save_prefix=\"mask\",\n",
    "        save_to_dir=None,\n",
    "        target_size=(256,256),\n",
    "        seed=1):\n",
    "\n",
    "    image_datagen = ImageDataGenerator(**aug_dict)\n",
    "    mask_datagen = ImageDataGenerator(**aug_dict)\n",
    "    \n",
    "    image_generator = image_datagen.flow_from_dataframe(\n",
    "        data_frame,\n",
    "        x_col = \"image_path\",\n",
    "        class_mode = None,\n",
    "        color_mode = image_color_mode,\n",
    "        target_size = target_size,\n",
    "        batch_size = batch_size,\n",
    "        save_to_dir = save_to_dir,\n",
    "        save_prefix  = image_save_prefix,\n",
    "        seed = seed)\n",
    "\n",
    "    mask_generator = mask_datagen.flow_from_dataframe(\n",
    "        data_frame,\n",
    "        x_col = \"mask_path\",\n",
    "        class_mode = None,\n",
    "        color_mode = mask_color_mode,\n",
    "        target_size = target_size,\n",
    "        batch_size = batch_size,\n",
    "        save_to_dir = save_to_dir,\n",
    "        save_prefix  = mask_save_prefix,\n",
    "        seed = seed)\n",
    "\n",
    "    train_gen = zip(image_generator, mask_generator)\n",
    "    \n",
    "    for (img, mask) in train_gen:\n",
    "        img, mask = adjust_data(img, mask)\n",
    "        yield (img,mask)\n",
    "\n",
    "def adjust_data(img,mask):\n",
    "    img = img / 255.\n",
    "    mask = mask / 255.\n",
    "    mask[mask > 0.5] = 1\n",
    "    mask[mask <= 0.5] = 0\n",
    "    \n",
    "    return (img, mask)"
   ]
  },
  {
   "cell_type": "code",
   "execution_count": null,
   "metadata": {},
   "outputs": [],
   "source": [
    "smooth=1.\n",
    "\n",
    "def dice_coef(y_true, y_pred):\n",
    "    y_true = K.flatten(y_true)\n",
    "    y_pred = K.flatten(y_pred)\n",
    "    intersection = K.sum(y_true * y_pred)\n",
    "    union = K.sum(y_true) + K.sum(y_pred)\n",
    "    return (2.0 * intersection + smooth) / (union + smooth)\n",
    "\n",
    "def dice_coef_loss(y_true, y_pred):\n",
    "    return 1 - dice_coef(y_true, y_pred)\n",
    "\n",
    "def bce_dice_loss(y_true, y_pred):\n",
    "    bce = tf.keras.losses.BinaryCrossentropy(from_logits=True)\n",
    "    return dice_coef_loss(y_true, y_pred) + bce(y_true, y_pred)\n",
    "\n",
    "def iou(y_true, y_pred):\n",
    "    intersection = K.sum(y_true * y_pred)\n",
    "    sum_ = K.sum(y_true + y_pred)\n",
    "    jac = (intersection + smooth) / (sum_ - intersection + smooth)\n",
    "    return jac"
   ]
  },
  {
   "cell_type": "code",
   "execution_count": null,
   "metadata": {},
   "outputs": [],
   "source": [
    "resnet50_model_extractor = ResNet50(weights='imagenet', include_top=False, input_tensor=Input(shape=(IMAGE_SIZE[0], IMAGE_SIZE[1], 3)))\n",
    "resnet50_model_extractor.summary()"
   ]
  },
  {
   "cell_type": "code",
   "execution_count": null,
   "metadata": {},
   "outputs": [],
   "source": [
    "for layer in resnet50_model_extractor.layers:\n",
    "    layer.trainable = False"
   ]
  },
  {
   "cell_type": "code",
   "execution_count": null,
   "metadata": {},
   "outputs": [],
   "source": [
    "# def resnet50_model(input_size):\n",
    "#     inputs = Input(input_size)\n",
    "\n",
    "renset50 = resnet50_model_extractor.output\n",
    "renset50 = AveragePooling2D(pool_size=(4,4))(renset50)\n",
    "renset50 = Flatten(name='Flatten')(renset50)\n",
    "renset50 = Dense(256, activation='relu')(renset50)\n",
    "renset50 = Dropout(0.3)(renset50)\n",
    "renset50 = Dense(256, activation='relu')(renset50)\n",
    "renset50 = Dropout(0.3)(renset50)\n",
    "# renset50 = Dense(2, activation='softmax')(renset50)\n",
    "resnet50_model = Model(inputs = resnet50_model_extractor.input, outputs = renset50)\n",
    "\n",
    "    # return Model(inputs=[inputs], outputs=[softmax])"
   ]
  },
  {
   "cell_type": "code",
   "execution_count": null,
   "metadata": {},
   "outputs": [],
   "source": [
    "resnet50_model.summary()"
   ]
  },
  {
   "cell_type": "code",
   "execution_count": null,
   "metadata": {},
   "outputs": [],
   "source": [
    "# Set parameters\n",
    "EPOCHS = 50\n",
    "BATCH_SIZE = 16\n",
    "learning_rate = 1e-4"
   ]
  },
  {
   "cell_type": "code",
   "execution_count": null,
   "metadata": {},
   "outputs": [],
   "source": [
    "train_generator_args = dict(rotation_range=0.1,\n",
    "                            width_shift_range=0.05,\n",
    "                            height_shift_range=0.05,\n",
    "                            shear_range=0.05,\n",
    "                            zoom_range=0.05,\n",
    "                            horizontal_flip=True,\n",
    "                            vertical_flip=True,\n",
    "                            fill_mode='nearest')\n",
    "train_gen = train_generator(df_train, BATCH_SIZE,\n",
    "                                train_generator_args,\n",
    "                                target_size=IMAGE_SIZE)\n",
    "    \n",
    "val_gen = train_generator(df_val, BATCH_SIZE,\n",
    "                                dict(),\n",
    "                                target_size=IMAGE_SIZE)"
   ]
  },
  {
   "cell_type": "code",
   "execution_count": null,
   "metadata": {},
   "outputs": [],
   "source": [
    "# model = resnet50_model(input_size=(IMAGE_SIZE[0], IMAGE_SIZE[1], 3))\n",
    "model = resnet50_model\n",
    "\n",
    "\n",
    "opt = Adam(lr=learning_rate, beta_1=0.9, beta_2=0.999, epsilon=None, amsgrad=False)\n",
    "model.compile(optimizer=opt, loss=bce_dice_loss, metrics=[iou, dice_coef])\n",
    "\n",
    "callbacks = [ModelCheckpoint('resnet50_brainMRI_seg.hdf5', verbose=1, save_best_only=True),\n",
    "            ReduceLROnPlateau(monitor='val_loss', factor=0.2, patience=10, verbose=1, min_delta=0.0001, mode='min'),\n",
    "            EarlyStopping(monitor='val_loss', mode='min', verbose=1, patience=15)]\n",
    "\n",
    "history = model.fit(train_gen,\n",
    "                    steps_per_epoch=len(df_train) / BATCH_SIZE, \n",
    "                    epochs=EPOCHS, \n",
    "                    callbacks=callbacks,\n",
    "                    validation_data = val_gen,\n",
    "                    validation_steps=len(df_val) / BATCH_SIZE)"
   ]
  },
  {
   "cell_type": "code",
   "execution_count": null,
   "metadata": {},
   "outputs": [],
   "source": [
    "plt.figure(figsize=(8,15))\n",
    "plt.subplot(3,1,1)\n",
    "plt.plot(model.history.history['loss'], 'b-', label='train_loss')\n",
    "plt.plot(model.history.history['val_loss'], 'r-', label='val_loss')\n",
    "plt.legend(loc='best')\n",
    "plt.title('Loss')\n",
    "\n",
    "plt.subplot(3,1,2)\n",
    "plt.plot(model.history.history['iou'], 'b-', label='train_iou')\n",
    "plt.plot(model.history.history['val_iou'], 'r-', label='val_iou')\n",
    "plt.legend(loc='best')\n",
    "plt.title('IoU')\n",
    "\n",
    "plt.subplot(3,1,3)\n",
    "plt.plot(model.history.history['dice_coef'], 'b-', label='train_dice_coef')\n",
    "plt.plot(model.history.history['val_dice_coef'], 'r-', label='val_dice_coef')\n",
    "plt.legend(loc='best')\n",
    "plt.title('Dice Coef')"
   ]
  },
  {
   "cell_type": "code",
   "execution_count": null,
   "metadata": {},
   "outputs": [],
   "source": [
    "test_gen = train_generator(df_test, BATCH_SIZE,\n",
    "                                dict(),\n",
    "                                target_size=IMAGE_SIZE)\n",
    "results = model.evaluate(test_gen, steps=len(df_test) / BATCH_SIZE)\n",
    "print(\"Test IOU: \",results[1])\n",
    "print(\"Test Dice Coefficent: \",results[2])"
   ]
  },
  {
   "cell_type": "code",
   "execution_count": null,
   "metadata": {},
   "outputs": [],
   "source": [
    "for i in range(30):\n",
    "    index=np.random.randint(1,len(df_test.index))\n",
    "    img = cv2.imread(df_test['image_path'].iloc[index])\n",
    "    img = cv2.resize(img ,IMAGE_SIZE)\n",
    "    img = img / 255\n",
    "    img = img[np.newaxis, :, :, :]\n",
    "    pred=model.predict(img)\n",
    "\n",
    "    plt.figure(figsize=(12,12))\n",
    "    plt.subplot(1,3,1)\n",
    "    plt.imshow(np.squeeze(img))\n",
    "    plt.title('Original Image')\n",
    "    plt.subplot(1,3,2)\n",
    "    plt.imshow(np.squeeze(cv2.imread(df_test['mask_path'].iloc[index])))\n",
    "    plt.title('Original Mask')\n",
    "    plt.subplot(1,3,3)\n",
    "    plt.imshow(np.squeeze(pred) > .5)\n",
    "    plt.title('Prediction')\n",
    "    plt.show()"
   ]
  },
  {
   "cell_type": "code",
   "execution_count": null,
   "metadata": {},
   "outputs": [],
   "source": []
  }
 ],
 "metadata": {
  "interpreter": {
   "hash": "cf222385e9d457a5c0a172267dfe02c598532762fe6913bd07a60de7c5dd0fa1"
  },
  "kernelspec": {
   "display_name": "Python 3.9.7 64-bit (conda)",
   "language": "python",
   "name": "python3"
  },
  "language_info": {
   "codemirror_mode": {
    "name": "ipython",
    "version": 3
   },
   "file_extension": ".py",
   "mimetype": "text/x-python",
   "name": "python",
   "nbconvert_exporter": "python",
   "pygments_lexer": "ipython3",
   "version": "3.9.7"
  },
  "orig_nbformat": 4
 },
 "nbformat": 4,
 "nbformat_minor": 2
}
